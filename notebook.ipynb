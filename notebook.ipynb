{
 "cells": [
  {
   "cell_type": "code",
   "execution_count": null,
   "metadata": {},
   "outputs": [],
   "source": [
    "# References:\n",
    "#   Bandpower: https://raphaelvallat.com/bandpower.html\n",
    "#   Colors: https://matplotlib.org/stable/gallery/color/named_colors.html\n",
    "\n",
    "import logging\n",
    "import matplotlib.pyplot as plt\n",
    "import mne\n",
    "import numpy as np\n",
    "import scipy\n",
    "\n",
    "MAX_SUB = 1 #20\n",
    "MAX_SES = 1 #12\n",
    "\n",
    "BANDS = { 'delta': (0.5, 4), 'theta': (4, 7), 'alpha': (8, 13), 'beta': (13, 30), 'gamma': (30, 128) }\n",
    "\n",
    "COLORS = { 'delta': 'skyblue', 'theta': 'hotpink', 'alpha': 'salmon', 'beta': 'lightseagreen', 'gamma': 'thistle' }\n",
    "\n",
    "logging.basicConfig(level='INFO', format='%(asctime)s %(levelname)s [%(module)s:%(lineno)d] %(message)s')\n",
    "logging.getLogger('mne').setLevel('ERROR')"
   ]
  },
  {
   "cell_type": "code",
   "execution_count": null,
   "metadata": {},
   "outputs": [],
   "source": [
    "sub_list = []\n",
    "for sub in range(1, MAX_SUB + 1):\n",
    "    logging.info('Loading subject %03d' % sub)\n",
    "    ses_list = []\n",
    "\n",
    "    for ses in range(1, MAX_SES + 1):\n",
    "        data_path = 'musin-g/sub-%03d/ses-%02d/eeg/sub-%03d_ses-%02d_task-MusicListening_run-%d_eeg' % (sub, ses, sub, ses, ses)\n",
    "        data = mne.io.read_raw_eeglab(data_path + '.set', preload=True, montage_units='mm')\n",
    "        data.drop_channels(['E129'])\n",
    "        ses_list.append(data)\n",
    "\n",
    "    sub_list.append(ses_list)\n",
    "\n",
    "raw:mne.io.Raw = sub_list[0][0]\n",
    "spectrum = raw.compute_psd()\n",
    "all_psds, freqs = spectrum.get_data(return_freqs=True)"
   ]
  },
  {
   "cell_type": "code",
   "execution_count": null,
   "metadata": {},
   "outputs": [],
   "source": [
    "fig = raw.plot(n_channels=128, show=False)\n",
    "plt.show(fig)\n",
    "plt.close(fig)"
   ]
  },
  {
   "cell_type": "code",
   "execution_count": null,
   "metadata": {},
   "outputs": [],
   "source": [
    "fig = spectrum.plot(show=False)\n",
    "plt.show(fig)\n",
    "plt.close(fig)"
   ]
  },
  {
   "cell_type": "code",
   "execution_count": null,
   "metadata": {},
   "outputs": [],
   "source": [
    "def get_peaks(all_psds):\n",
    "    counts = np.bincount(np.argmax(all_psds, axis=1))\n",
    "    peaks, _ = scipy.signal.find_peaks(np.concatenate(([0], counts, [0])))\n",
    "    return peaks - 1\n",
    "\n",
    "get_peaks(all_psds)"
   ]
  },
  {
   "cell_type": "code",
   "execution_count": null,
   "metadata": {},
   "outputs": [],
   "source": [
    "chan = 95\n",
    "\n",
    "def get_unit_label(dB=False, estimate='power', unit='µV'):\n",
    "    if estimate == 'auto':\n",
    "        estimate = 'power' if dB else 'amplitude'\n",
    "\n",
    "    if estimate == 'amplitude':\n",
    "        label = r'$\\mathrm{%s/\\sqrt{Hz}}$' % unit\n",
    "    else:\n",
    "        if '/' in unit:\n",
    "            unit = '(%s)' % unit\n",
    "        label = r'$\\mathrm{%s²/Hz}$' % unit\n",
    "    if dB:\n",
    "        label += r'$\\ \\mathrm{(dB)}$'\n",
    "    return label\n",
    "\n",
    "def convert_psds(psds, dB=False, estimate='power', unit='µV'):\n",
    "    psds = psds.copy()\n",
    "    if estimate == 'auto':\n",
    "        estimate = 'power' if dB else 'amplitude'\n",
    "\n",
    "    if estimate == 'amplitude':\n",
    "        np.sqrt(psds, out=psds)\n",
    "        np.multiply(psds, 1e6, out=psds)\n",
    "    else:\n",
    "        np.multiply(psds, 1e12, out=psds)\n",
    "        if '/' in unit:\n",
    "            unit = '(%s)' % unit\n",
    "    if dB:\n",
    "        np.log10(np.maximum(psds, np.finfo(float).tiny), out=psds)\n",
    "        np.multiply(psds, 10, out=psds)\n",
    "    return psds\n",
    "\n",
    "def get_power(psds, freqs, key):\n",
    "    freq_res = (freqs[-1] - freqs[0]) / len(freqs)\n",
    "    band = BANDS[key]\n",
    "    idx = np.logical_and(freqs >= band[0], freqs <= band[1])\n",
    "    psds = convert_psds(psds)\n",
    "    return scipy.integrate.simps(psds[idx], dx=freq_res)\n",
    "\n",
    "plt.figure(figsize=(12, 4))\n",
    "\n",
    "psds = all_psds[chan]\n",
    "psds_db = convert_psds(psds, dB=True)\n",
    "\n",
    "plt.xlabel('Frequency (Hz)')\n",
    "plt.ylabel(get_unit_label(dB=True))\n",
    "plt.plot(freqs, psds_db, lw=1, color='black')\n",
    "\n",
    "for name in BANDS.keys():\n",
    "    band = BANDS[name]\n",
    "    color = COLORS[name]\n",
    "    idx = np.logical_and(freqs >= band[0], freqs <= band[1])\n",
    "    plt.fill_between(freqs, psds_db, y2=psds_db.min(), where=idx, color=color)\n",
    "\n",
    "plt.tick_params(length=3)\n",
    "plt.xticks(\n",
    "    [np.average(band) for band in BANDS.values()],\n",
    "    BANDS.keys(),\n",
    "    rotation=-60,\n",
    "    rotation_mode='anchor',\n",
    "    ha='left'\n",
    ")\n",
    "\n",
    "text = ''\n",
    "for name in BANDS.keys():\n",
    "    band = BANDS[name]\n",
    "    color = COLORS[name]\n",
    "    power = get_power(psds, freqs, name)\n",
    "    unit = get_unit_label()\n",
    "    text += '%s (%.1f-%.1f Hz): %.3f %s\\n' % (name, band[0], band[1], power, unit)\n",
    "plt.text(len(psds_db), psds_db.max(), text, ha='right', va='top')\n",
    "\n",
    "plt.show()\n",
    "plt.close()"
   ]
  }
 ],
 "metadata": {
  "kernelspec": {
   "display_name": "venv",
   "language": "python",
   "name": "python3"
  },
  "language_info": {
   "codemirror_mode": {
    "name": "ipython",
    "version": 3
   },
   "file_extension": ".py",
   "mimetype": "text/x-python",
   "name": "python",
   "nbconvert_exporter": "python",
   "pygments_lexer": "ipython3",
   "version": "3.11.2"
  },
  "orig_nbformat": 4,
  "vscode": {
   "interpreter": {
    "hash": "37bf58a46af060523d3f789c16c0f9b003f355ef4fc5f94234ef15f1368d10dc"
   }
  }
 },
 "nbformat": 4,
 "nbformat_minor": 2
}
