{
 "cells": [
  {
   "cell_type": "code",
   "execution_count": null,
   "metadata": {},
   "outputs": [],
   "source": [
    "import matplotlib.pyplot as plt\n",
    "import numpy as np\n",
    "from utils import *"
   ]
  },
  {
   "cell_type": "code",
   "execution_count": null,
   "metadata": {},
   "outputs": [],
   "source": [
    "raw = read_raw_data(1, 1)\n",
    "spectrum = raw.compute_psd()\n",
    "all_psds, freqs = spectrum.get_data(return_freqs=True)"
   ]
  },
  {
   "cell_type": "code",
   "execution_count": null,
   "metadata": {},
   "outputs": [],
   "source": [
    "fig = raw.plot(n_channels=128, show=False)\n",
    "plt.show(fig)\n",
    "plt.close(fig)"
   ]
  },
  {
   "cell_type": "code",
   "execution_count": null,
   "metadata": {},
   "outputs": [],
   "source": [
    "fig = spectrum.plot(picks='E80', show=False)\n",
    "plt.show(fig)\n",
    "plt.close(fig)"
   ]
  },
  {
   "cell_type": "code",
   "execution_count": null,
   "metadata": {},
   "outputs": [],
   "source": [
    "get_peaks(all_psds, freqs)"
   ]
  },
  {
   "cell_type": "code",
   "execution_count": null,
   "metadata": {},
   "outputs": [],
   "source": [
    "CHANNEL = 79\n",
    "\n",
    "plt.figure(figsize=(12, 4))\n",
    "\n",
    "psds = all_psds[CHANNEL]\n",
    "psds_db = convert_psds(psds, dB=True)\n",
    "\n",
    "plt.xlabel('Frequency (Hz)')\n",
    "plt.ylabel(get_unit_label(dB=True))\n",
    "plt.plot(freqs, psds_db, lw=1, color='black')\n",
    "\n",
    "for name in BANDS.keys():\n",
    "    band = BANDS[name]\n",
    "    idx = np.logical_and(freqs >= band.min_freq, freqs <= band.max_freq)\n",
    "    plt.fill_between(freqs, psds_db, y2=psds_db.min(), where=idx, color=band.color)\n",
    "\n",
    "plt.tick_params(length=3)\n",
    "plt.xticks(\n",
    "    [np.average([band.min_freq, band.max_freq]) for band in BANDS.values()],\n",
    "    BANDS.keys(),\n",
    "    rotation=-60,\n",
    "    rotation_mode='anchor',\n",
    "    ha='left'\n",
    ")\n",
    "\n",
    "text = ''\n",
    "for name in BANDS.keys():\n",
    "    band = BANDS[name]\n",
    "    power = get_power(psds, freqs, BANDS[name])\n",
    "    unit = get_unit_label()\n",
    "    text += '%s (%.1f-%.1f Hz):\\t%.3f %s\\n' % (name, band.min_freq, band.max_freq, power, unit)\n",
    "plt.text(len(psds_db), psds_db.max(), text, ha='right', va='top')\n",
    "\n",
    "peaks = get_peaks(all_psds, freqs)\n",
    "for peak in peaks:\n",
    "    plt.vlines(peak, psds_db.min(), psds_db.max(), color='darkblue', lw=0.5, linestyles='dashed')\n",
    "\n",
    "plt.show()\n",
    "plt.close()"
   ]
  },
  {
   "cell_type": "markdown",
   "metadata": {},
   "source": [
    "References\n",
    "\n",
    "[1] [Compute the average bandpower of an EEG signal](https://raphaelvallat.com/bandpower.html) \\\n",
    "[2] [List of named colors](https://matplotlib.org/stable/gallery/color/named_colors.html)"
   ]
  }
 ],
 "metadata": {
  "kernelspec": {
   "display_name": "Python 3 (ipykernel)",
   "language": "python",
   "name": "python3"
  },
  "language_info": {
   "codemirror_mode": {
    "name": "ipython",
    "version": 3
   },
   "file_extension": ".py",
   "mimetype": "text/x-python",
   "name": "python",
   "nbconvert_exporter": "python",
   "pygments_lexer": "ipython3",
   "version": "3.11.2"
  },
  "vscode": {
   "interpreter": {
    "hash": "37bf58a46af060523d3f789c16c0f9b003f355ef4fc5f94234ef15f1368d10dc"
   }
  }
 },
 "nbformat": 4,
 "nbformat_minor": 2
}
