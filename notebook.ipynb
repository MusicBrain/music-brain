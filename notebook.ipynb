{
 "cells": [
  {
   "cell_type": "code",
   "execution_count": null,
   "metadata": {},
   "outputs": [],
   "source": [
    "import matplotlib.pyplot as plt\n",
    "import numpy as np\n",
    "from utils import *"
   ]
  },
  {
   "cell_type": "code",
   "execution_count": null,
   "metadata": {},
   "outputs": [],
   "source": [
    "raw = read_raw_data(1, 1)\n",
    "spectrum = raw.compute_psd()\n",
    "all_psds, freqs = spectrum.get_data(return_freqs=True)"
   ]
  },
  {
   "cell_type": "code",
   "execution_count": null,
   "metadata": {},
   "outputs": [],
   "source": [
    "fig = raw.plot(n_channels=128, show=False)\n",
    "plt.show(fig)\n",
    "plt.close(fig)"
   ]
  },
  {
   "cell_type": "code",
   "execution_count": null,
   "metadata": {},
   "outputs": [],
   "source": [
    "fig = spectrum.plot(picks=['E%d' % d for d in range(1, 129)], show=False)\n",
    "plt.show(fig)\n",
    "plt.close(fig)"
   ]
  },
  {
   "cell_type": "code",
   "execution_count": null,
   "metadata": {},
   "outputs": [],
   "source": [
    "np.take(freqs, get_peaks(all_psds))"
   ]
  },
  {
   "cell_type": "code",
   "execution_count": null,
   "metadata": {},
   "outputs": [],
   "source": [
    "CHANNEL = 79\n",
    "\n",
    "fig, ax = plt.subplots(figsize=(12, 4))\n",
    "\n",
    "psds = all_psds[CHANNEL]\n",
    "psds_db = convert_psds(psds, dB=True)\n",
    "ax.set_xlabel('Frequency (Hz)')\n",
    "ax.set_ylabel(get_unit_label(dB=True))\n",
    "ax.spines['top'].set_visible(False)\n",
    "ax.spines['right'].set_visible(False)\n",
    "ax.plot(freqs, psds_db, lw=1, color='black')\n",
    "\n",
    "for name in BANDS.keys():\n",
    "    band = BANDS[name]\n",
    "    idx = np.logical_and(freqs >= band.min_freq, freqs <= band.max_freq)\n",
    "    plt.fill_between(freqs, psds_db, y2=psds_db.min(), where=idx, color=band.color)\n",
    "\n",
    "ax.tick_params(length=3)\n",
    "\n",
    "cell_text = []\n",
    "cell_colors = []\n",
    "for name in BANDS.keys():\n",
    "    band = BANDS[name]\n",
    "    power = get_power(psds, freqs, BANDS[name])\n",
    "    unit = get_unit_label()\n",
    "    cell_text.append([band.symbol, '%.1f-%.1f Hz' % (band.min_freq, band.max_freq), '%.3f %s' % (power, unit)])\n",
    "    cell_colors.append([band.color, band.color, band.color])\n",
    "tab = ax.table(cell_text, cellColours=cell_colors, cellLoc='left', colLabels=['Band', 'Range', 'Avg Power'], loc='upper right')\n",
    "tab.auto_set_column_width([0, 1, 2])\n",
    "tab.auto_set_font_size(False)\n",
    "tab.set_fontsize(9)\n",
    "\n",
    "peaks = get_peaks(all_psds)\n",
    "for peak in peaks:\n",
    "    ax.vlines(freqs[peak], psds_db.min(), psds_db[peak], color='darkblue', lw=0.5, linestyles='dashed')\n",
    "    ax.text(freqs[peak], psds_db[peak], '%0.3f' % psds_db[peak], fontsize=9, ha='center', va='bottom')\n",
    "ax.set_xticks(np.take(freqs, peaks))\n",
    "\n",
    "plt.show()\n",
    "plt.close()"
   ]
  },
  {
   "cell_type": "code",
   "execution_count": null,
   "metadata": {},
   "outputs": [],
   "source": [
    "plt.rc('font', size=6)\n",
    "\n",
    "montage = raw.get_montage()\n",
    "fig = montage.plot(show=False)\n",
    "fig.set_figheight(5)\n",
    "\n",
    "plt.show()\n",
    "plt.close()"
   ]
  },
  {
   "cell_type": "markdown",
   "metadata": {},
   "source": [
    "References\n",
    "\n",
    "[1] [Compute the average bandpower of an EEG signal](https://raphaelvallat.com/bandpower.html) \\\n",
    "[2] [List of named colors](https://matplotlib.org/stable/gallery/color/named_colors.html)"
   ]
  }
 ],
 "metadata": {
  "kernelspec": {
   "display_name": "venv",
   "language": "python",
   "name": "python3"
  },
  "language_info": {
   "codemirror_mode": {
    "name": "ipython",
    "version": 3
   },
   "file_extension": ".py",
   "mimetype": "text/x-python",
   "name": "python",
   "nbconvert_exporter": "python",
   "pygments_lexer": "ipython3",
   "version": "3.11.2"
  },
  "vscode": {
   "interpreter": {
    "hash": "37bf58a46af060523d3f789c16c0f9b003f355ef4fc5f94234ef15f1368d10dc"
   }
  }
 },
 "nbformat": 4,
 "nbformat_minor": 2
}
