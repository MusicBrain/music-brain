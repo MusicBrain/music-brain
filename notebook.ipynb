{
 "cells": [
  {
   "cell_type": "code",
   "execution_count": null,
   "metadata": {},
   "outputs": [],
   "source": [
    "MAX_SUB = 1 #20\n",
    "MAX_SES = 1 #12"
   ]
  },
  {
   "cell_type": "code",
   "execution_count": null,
   "metadata": {},
   "outputs": [],
   "source": [
    "import logging\n",
    "import matplotlib.pyplot as plt\n",
    "import mne\n",
    "\n",
    "logging.basicConfig(level='INFO', format='%(asctime)s %(levelname)s [%(module)s:%(lineno)d] %(message)s')\n",
    "logging.getLogger('mne').setLevel('ERROR')\n",
    "\n",
    "sub_count = MAX_SUB\n",
    "ses_count = MAX_SES\n",
    "\n",
    "sub_list = []\n",
    "for sub in range(1, sub_count + 1):\n",
    "    logging.info('Loading subject %03d' % sub)\n",
    "    ses_list = []\n",
    "\n",
    "    for ses in range(1, ses_count + 1):\n",
    "        data_path = 'musin-g/sub-%03d/ses-%02d/eeg/sub-%03d_ses-%02d_task-MusicListening_run-%d_eeg' % (sub, ses, sub, ses, ses)\n",
    "        data = mne.io.read_raw_eeglab(data_path + '.set', preload=True, montage_units='mm')\n",
    "        data.drop_channels(['E129'])\n",
    "        ses_list.append(data)\n",
    "\n",
    "    sub_list.append(ses_list)\n",
    "\n",
    "raw:mne.io.Raw = sub_list[0][0]"
   ]
  },
  {
   "cell_type": "code",
   "execution_count": null,
   "metadata": {},
   "outputs": [],
   "source": [
    "fig = raw.plot(n_channels=128, show=False)\n",
    "plt.close(fig)\n",
    "fig"
   ]
  },
  {
   "cell_type": "code",
   "execution_count": null,
   "metadata": {},
   "outputs": [],
   "source": [
    "fig = raw.compute_psd().plot(show=False)\n",
    "plt.close(fig)\n",
    "fig"
   ]
  }
 ],
 "metadata": {
  "kernelspec": {
   "display_name": "venv",
   "language": "python",
   "name": "python3"
  },
  "language_info": {
   "codemirror_mode": {
    "name": "ipython",
    "version": 3
   },
   "file_extension": ".py",
   "mimetype": "text/x-python",
   "name": "python",
   "nbconvert_exporter": "python",
   "pygments_lexer": "ipython3",
   "version": "3.11.1"
  },
  "orig_nbformat": 4,
  "vscode": {
   "interpreter": {
    "hash": "37bf58a46af060523d3f789c16c0f9b003f355ef4fc5f94234ef15f1368d10dc"
   }
  }
 },
 "nbformat": 4,
 "nbformat_minor": 2
}
